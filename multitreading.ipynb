{
 "cells": [
  {
   "cell_type": "code",
   "execution_count": 1,
   "metadata": {},
   "outputs": [
    {
     "name": "stdout",
     "output_type": "stream",
     "text": [
      "멀티프로세싱 실행 완료!\n"
     ]
    }
   ],
   "source": [
    "import multiprocessing\n",
    "import time\n",
    "\n",
    "def calculate_square(numbers):\n",
    "    for n in numbers:\n",
    "        print(f\"Square: {n*n}\")\n",
    "        time.sleep(1)\n",
    "\n",
    "def calculate_cube(numbers):\n",
    "    for n in numbers:\n",
    "        print(f\"Cube: {n**3}\")\n",
    "        time.sleep(1)\n",
    "        \n",
    "def print_numbers():\n",
    "    for i in range(1, 6):\n",
    "        print(f\"Thread 1: {i}\")\n",
    "        time.sleep(1)\n",
    "\n",
    "def print_letters():\n",
    "    for letter in 'ABCDE':\n",
    "        print(f\"Thread 2: {letter}\")\n",
    "        time.sleep(1)\n",
    "\n",
    "if __name__ == \"__main__\":\n",
    "    numbers = [1, 2, 3, 4, 5]\n",
    "\n",
    "    # 프로세스 생성\n",
    "    process1 = multiprocessing.Process(target=print_numbers) #프로세서 1개\n",
    "    process2 = multiprocessing.Process(target=print_letters) #프로세서 2개\n",
    "\n",
    "    # 단일 프로세서\n",
    "    # calculate_square(numbers) #\n",
    "    # calculate_cube(numbers)   # 2개합쳐서 프로세서 1개\n",
    "\n",
    "    # 프로세스 시작\n",
    "    process1.start()\n",
    "    process2.start()\n",
    "\n",
    "    # 프로세스 종료 대기\n",
    "    process1.join()  # 하나가 끝나면 대기. 지혼자끝났다고 함수 끝나면 안되서.\n",
    "    process2.join()\n",
    "\n",
    "    print(\"멀티프로세싱 실행 완료!\")\n"
   ]
  },
  {
   "cell_type": "code",
   "execution_count": 2,
   "metadata": {},
   "outputs": [
    {
     "name": "stdout",
     "output_type": "stream",
     "text": [
      "Thread 1: 1\n",
      "Thread 2: A\n",
      "Thread 1: 2Thread 2: B\n",
      "\n",
      "Thread 1: 3Thread 2: C\n",
      "\n",
      "Thread 1: 4Thread 2: D\n",
      "\n",
      "Thread 1: 5Thread 2: E\n",
      "\n",
      "멀티스레드 실행 완료!\n"
     ]
    },
    {
     "data": {
      "text/plain": [
       "'\\n이러면 1프로세스에 2개의 스레드를 사용한 코드가 됨.\\n'"
      ]
     },
     "execution_count": 2,
     "metadata": {},
     "output_type": "execute_result"
    }
   ],
   "source": [
    "import threading\n",
    "import time\n",
    "\n",
    "def print_numbers():\n",
    "    for i in range(1, 6):\n",
    "        print(f\"Thread 1: {i}\")\n",
    "        time.sleep(1)\n",
    "\n",
    "def print_letters():\n",
    "    for letter in 'ABCDE':\n",
    "        print(f\"Thread 2: {letter}\")\n",
    "        time.sleep(1)\n",
    "\n",
    "# 스레드 생성\n",
    "thread1 = threading.Thread(target=print_numbers)\n",
    "thread2 = threading.Thread(target=print_letters)\n",
    "\n",
    "# 스레드 시작\n",
    "thread1.start()\n",
    "thread2.start()\n",
    "\n",
    "# 스레드 종료 대기\n",
    "thread1.join()\n",
    "thread2.join()\n",
    "\n",
    "print(\"멀티스레드 실행 완료!\")\n",
    "\n",
    "\"\"\"\n",
    "이러면 1프로세스에 2개의 스레드를 사용한 코드가 됨.\n",
    "\"\"\""
   ]
  },
  {
   "cell_type": "code",
   "execution_count": null,
   "metadata": {},
   "outputs": [
    {
     "name": "stdout",
     "output_type": "stream",
     "text": [
      "멀티프로세싱 실행 완료!\n"
     ]
    }
   ],
   "source": [
    "import multiprocessing\n",
    "import time\n",
    "\n",
    "def calculate_square(numbers):\n",
    "    for n in numbers:\n",
    "        print(f\"Square: {n*n}\")\n",
    "        time.sleep(1)\n",
    "\n",
    "def calculate_cube(numbers):\n",
    "    for n in numbers:\n",
    "        print(f\"Cube: {n**3}\")\n",
    "        time.sleep(1)\n",
    "\n",
    "if __name__ == \"__main__\":\n",
    "    numbers = [1, 2, 3, 4, 5]\n",
    "\n",
    "    # 프로세스 생성\n",
    "    process1 = multiprocessing.Process(target=calculate_square, args=(numbers,)) #프로세서 1개\n",
    "    process2 = multiprocessing.Process(target=calculate_cube, args=(numbers,)) #프로세서 2개\n",
    "\n",
    "    # 단일 프로세서\n",
    "    # calculate_square(numbers) #\n",
    "    # calculate_cube(numbers)   # 2개합쳐서 프로세서 1개\n",
    "\n",
    "    # 프로세스 시작\n",
    "    process1.start()\n",
    "    # p2.start()\n",
    "\n",
    "    # 프로세스 종료 대기\n",
    "    process1.join()  # 하나가 끝나면 대기. 지혼자끝났다고 함수 끝나면 안되서.\n",
    "    # p2.join()\n",
    "\n",
    "    print(\"멀티프로세싱 실행 완료!\")\n"
   ]
  },
  {
   "cell_type": "code",
   "execution_count": 18,
   "metadata": {},
   "outputs": [
    {
     "data": {
      "text/plain": [
       "4"
      ]
     },
     "execution_count": 18,
     "metadata": {},
     "output_type": "execute_result"
    }
   ],
   "source": [
    "multiprocessing.cpu_count()"
   ]
  }
 ],
 "metadata": {
  "kernelspec": {
   "display_name": "RB_alpha",
   "language": "python",
   "name": "python3"
  },
  "language_info": {
   "codemirror_mode": {
    "name": "ipython",
    "version": 3
   },
   "file_extension": ".py",
   "mimetype": "text/x-python",
   "name": "python",
   "nbconvert_exporter": "python",
   "pygments_lexer": "ipython3",
   "version": "3.11.10"
  }
 },
 "nbformat": 4,
 "nbformat_minor": 2
}
