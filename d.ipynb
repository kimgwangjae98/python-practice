{
 "cells": [
  {
   "cell_type": "code",
   "execution_count": 2,
   "metadata": {},
   "outputs": [
    {
     "name": "stdout",
     "output_type": "stream",
     "text": [
      "{1: 'a', 2: 'b', 3: 'c'}\n"
     ]
    }
   ],
   "source": [
    "#딕셔너리 key:value 쌍 바꾸기 예제 코드\n",
    "def swap_dict(d):\n",
    "    return dict(map(lambda t: (t[1], t[0]), d.items()))\n",
    "original_dict = {'a': 1, 'b': 2, 'c': 3}\n",
    "swapped_dict = swap_dict(original_dict)\n",
    "print(swapped_dict)  # 출력: {1: 'a', 2: 'b', 3: 'c'}"
   ]
  },
  {
   "cell_type": "code",
   "execution_count": null,
   "metadata": {},
   "outputs": [],
   "source": [
    "#딕셔너리 key:value 쌍 바꾸기 내꺼 코드. 이 코드를 map lambda 함수를 이용해 축약시킬것임.\n",
    "\n",
    "#딕셔너리 만들기\n",
    "diction = { 'a': '1', 'b': '2', 'c': '3', 'd': '4', 'e': '5', 'f': '6'}\n",
    "\n",
    "\n",
    "# 새 딕션 생성\n",
    "diction_reverse = {}\n",
    "\n",
    "# key값과 value값 자리 바꾸기\n",
    "for key in diction.keys():\n",
    "    value = diction[key] # value값 얻기\n",
    "    diction_reverse[value] = key # 자리바꾸기\n",
    "print(\"diction = \", diction)\n",
    "print(\"diction_reverse = \",diction_reverse)\n",
    "\n"
   ]
  },
  {
   "cell_type": "code",
   "execution_count": 7,
   "metadata": {},
   "outputs": [
    {
     "name": "stdout",
     "output_type": "stream",
     "text": [
      "key = a, value = 1\n",
      "key = b, value = 2\n",
      "key = c, value = 3\n",
      "key = d, value = 4\n",
      "key = e, value = 5\n",
      "key = f, value = 6\n",
      "diction =  {'a': '1', 'b': '2', 'c': '3', 'd': '4', 'e': '5', 'f': '6'}\n",
      "diction_reverse =  {'1': 'a', '2': 'b', '3': 'c', '4': 'd', '5': 'e', '6': 'f'}\n"
     ]
    }
   ],
   "source": [
    "#딕셔너리 key:value 쌍 바꾸기 내꺼 코드 버전 1(반복문 축약)\n",
    "\n",
    "#딕셔너리 만들기\n",
    "diction = { 'a': '1', 'b': '2', 'c': '3', 'd': '4', 'e': '5', 'f': '6'}\n",
    "\n",
    "\n",
    "# 새 딕션 생성\n",
    "diction_reverse = {}\n",
    "\n",
    "# key값과 value값 자리 바꾸기. key, value 두 값 동시 사용\n",
    "for key, value in diction.items():\n",
    "    print(\"key = %s, value = %s\" % (key, value))\n",
    "    diction_reverse[value] = key\n",
    "    \n",
    "print(\"diction = \", diction)\n",
    "print(\"diction_reverse = \",diction_reverse)"
   ]
  },
  {
   "cell_type": "code",
   "execution_count": 10,
   "metadata": {},
   "outputs": [
    {
     "name": "stdout",
     "output_type": "stream",
     "text": [
      "item =  dict_items([('a', '1'), ('b', '2'), ('c', '3'), ('d', '4'), ('e', '5'), ('f', '6')])\n",
      "diction =  {'a': '1', 'b': '2', 'c': '3', 'd': '4', 'e': '5', 'f': '6'}\n",
      "diction_reverse =  {'1': 'a', '2': 'b', '3': 'c', '4': 'd', '5': 'e', '6': 'f'}\n"
     ]
    }
   ],
   "source": [
    "#딕셔너리 key:value 쌍 바꾸기 내꺼 코드 버전 2(map, 함수 생성 사용)\n",
    "\n",
    "#딕셔너리 만들기\n",
    "diction = { 'a': '1', 'b': '2', 'c': '3', 'd': '4', 'e': '5', 'f': '6'}\n",
    "\n",
    "\n",
    "# 새 딕션 생성\n",
    "diction_reverse = {}\n",
    "\n",
    "\n",
    "\n",
    "item = diction.items()\n",
    "print(\"item = \", item)\n",
    "# 튜플 key:value 값 자리바꾸기. key:value 쌍을 추출해내고 위치바꿈\n",
    "def reverse(couple):            # couple : ('a', '1')\n",
    "    return couple[1], couple[0] # [0] : 'a', [1] : '1' \n",
    "    \n",
    "\n",
    "diction_reverse = dict(map(reverse,item))\n",
    "    \n",
    "print(\"diction = \", diction)\n",
    "print(\"diction_reverse = \",diction_reverse)"
   ]
  },
  {
   "cell_type": "code",
   "execution_count": 26,
   "metadata": {},
   "outputs": [
    {
     "name": "stdout",
     "output_type": "stream",
     "text": [
      "item =  dict_items([('a', '1'), ('b', '2'), ('c', '3'), ('d', '4'), ('e', '5'), ('f', '6')])\n",
      "diction =  {'a': '1', 'b': '2', 'c': '3', 'd': '4', 'e': '5', 'f': '6'}\n",
      "diction_reverse =  {'1': 'a', '2': 'b', '3': 'c', '4': 'd', '5': 'e', '6': 'f'}\n"
     ]
    }
   ],
   "source": [
    "#딕셔너리 key:value 쌍 바꾸기 내꺼 코드 버전 3(map, lambda 사용)\n",
    "\n",
    "#딕셔너리 만들기\n",
    "diction = { 'a': '1', 'b': '2', 'c': '3', 'd': '4', 'e': '5', 'f': '6'}\n",
    "\n",
    "\n",
    "# 새 딕션 생성\n",
    "diction_reverse = {}\n",
    "\n",
    "\n",
    "\n",
    "items = diction.items()\n",
    "print(\"item = \", items)\n",
    "\n",
    "\n",
    "diction_reverse = dict(map(lambda c: [c[1], c[0]], items))\n",
    "    \n",
    "print(\"diction = \", diction)\n",
    "print(\"diction_reverse = \",diction_reverse)"
   ]
  },
  {
   "cell_type": "code",
   "execution_count": 25,
   "metadata": {},
   "outputs": [
    {
     "name": "stdout",
     "output_type": "stream",
     "text": [
      "diction =  {'a': '1', 'b': '2', 'c': '3', 'd': '4', 'e': '5', 'f': '6'}\n",
      "diction_reverse =  {'1': 'a', '2': 'b', '3': 'c', '4': 'd', '5': 'e', '6': 'f'}\n"
     ]
    }
   ],
   "source": [
    "#딕셔너리 key:value 쌍 바꾸기 내꺼 코드 버전 4(map, lambda 사용 + 쌍 바꾸기 함수화)\n",
    "\n",
    "#딕셔너리 만들기\n",
    "diction = { 'a': '1', 'b': '2', 'c': '3', 'd': '4', 'e': '5', 'f': '6'}\n",
    "\n",
    "\n",
    "# 새 딕션 생성\n",
    "diction_reverse = {}\n",
    "\n",
    "def diction_swap(d):\n",
    "    return dict(map(lambda c: [c[1], c[0]], d.items())) #.items() 꼭 쓰기\n",
    "diction_reverse = diction_swap(diction)\n",
    "    \n",
    "print(\"diction = \", diction)\n",
    "print(\"diction_reverse = \",diction_reverse)"
   ]
  },
  {
   "cell_type": "code",
   "execution_count": 20,
   "metadata": {},
   "outputs": [
    {
     "name": "stdout",
     "output_type": "stream",
     "text": [
      "diction =  {'a': '1', 'b': '2', 'c': '3', 'd': '4', 'e': '5', 'f': '6'}\n",
      "diction_reverse =  {'1': 'a', '2': 'b', '3': 'c', '4': 'd', '5': 'e', '6': 'f'}\n"
     ]
    }
   ],
   "source": [
    "#딕셔너리 만들기\n",
    "diction = { 'a': '1', 'b': '2', 'c': '3', 'd': '4', 'e': '5', 'f': '6'}\n",
    "\n",
    "\n",
    "# 새 딕션 생성\n",
    "diction_reverse = {}\n",
    "\n",
    "\n",
    "def reverse(dicti):\n",
    "    return dict(map(lambda r: (r[1],r[0]), dicti.items()))\n",
    "diction_reverse = reverse(diction)\n",
    "print(\"diction = \", diction)\n",
    "print(\"diction_reverse = \",diction_reverse)\n"
   ]
  }
 ],
 "metadata": {
  "kernelspec": {
   "display_name": "deep_learing",
   "language": "python",
   "name": "python3"
  },
  "language_info": {
   "codemirror_mode": {
    "name": "ipython",
    "version": 3
   },
   "file_extension": ".py",
   "mimetype": "text/x-python",
   "name": "python",
   "nbconvert_exporter": "python",
   "pygments_lexer": "ipython3",
   "version": "3.11.9"
  }
 },
 "nbformat": 4,
 "nbformat_minor": 2
}
